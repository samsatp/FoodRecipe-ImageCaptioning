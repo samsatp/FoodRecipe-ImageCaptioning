{
  "nbformat": 4,
  "nbformat_minor": 2,
  "metadata": {
    "colab": {
      "name": "Midterm NN",
      "provenance": [],
      "collapsed_sections": []
    },
    "kernelspec": {
      "name": "python3",
      "display_name": "Python 3.8.10 64-bit ('venv': venv)"
    },
    "language_info": {
      "name": "python",
      "version": "3.8.10",
      "mimetype": "text/x-python",
      "codemirror_mode": {
        "name": "ipython",
        "version": 3
      },
      "pygments_lexer": "ipython3",
      "nbconvert_exporter": "python",
      "file_extension": ".py"
    },
    "interpreter": {
      "hash": "6b1557de0195c05600ab34f85f49e31e8bf48614b384d66035242c3a032df447"
    }
  },
  "cells": [
    {
      "cell_type": "markdown",
      "source": [
        "# Get all recipe\n",
        "from https://veenaazmanov.com/recipes-in-text"
      ],
      "metadata": {
        "id": "d9xr5oyJoKOM"
      }
    },
    {
      "cell_type": "code",
      "execution_count": 1,
      "source": [
        "import requests\r\n",
        "from bs4 import BeautifulSoup\r\n",
        "\r\n",
        "main_page = requests.get('https://veenaazmanov.com/recipes-in-text')\r\n",
        "html_main = main_page.content\r\n",
        "\r\n",
        "soup = BeautifulSoup(html_main, 'html.parser')\r\n",
        "\r\n",
        "all_recipe = soup.find_all('a', target='_self')\r\n",
        "print(f'Tags with self targeted found: {len(all_recipe)}')"
      ],
      "outputs": [
        {
          "output_type": "stream",
          "name": "stdout",
          "text": [
            "Tags with self targeted found: 1362\n"
          ]
        }
      ],
      "metadata": {
        "colab": {
          "base_uri": "https://localhost:8080/"
        },
        "id": "JUF_W6VgS4bv",
        "outputId": "1f974dbf-48bc-473d-e380-ca77abcde7e6"
      }
    },
    {
      "cell_type": "code",
      "execution_count": 2,
      "source": [
        "all_recipe[:2]"
      ],
      "outputs": [
        {
          "output_type": "execute_result",
          "data": {
            "text/plain": [
              "[<a data-wpel-link=\"internal\" href=\"https://veenaazmanov.com/\" rel=\"follow noopener noreferrer\" target=\"_self\">Veena Azmanov</a>,\n",
              " <a data-wpel-link=\"internal\" href=\"https://veenaazmanov.com/cook/\" rel=\"follow noopener noreferrer\" target=\"_self\"><span>Cook</span></a>]"
            ]
          },
          "metadata": {},
          "execution_count": 2
        }
      ],
      "metadata": {}
    },
    {
      "cell_type": "markdown",
      "source": [
        "We can see that some of them don't refer to recipe pages. From observation, first 49 tag of them don't."
      ],
      "metadata": {}
    },
    {
      "cell_type": "code",
      "execution_count": 3,
      "source": [
        "all_recipe = all_recipe[49:]   # First 49 urls are not recipe\r\n",
        "\r\n",
        "all_recipe_url = [a.get('href') for a in all_recipe]   # Grab only url from href attribute of each tag\r\n",
        "menus = [a.string for a in all_recipe]   # Grab the menu name"
      ],
      "outputs": [],
      "metadata": {
        "id": "d3NDD9dcTA7F"
      }
    },
    {
      "cell_type": "code",
      "execution_count": 4,
      "source": [
        "all_recipe_url[:3]"
      ],
      "outputs": [
        {
          "output_type": "execute_result",
          "data": {
            "text/plain": [
              "['https://veenaazmanov.com/homemade-chocolate-birthday-cake-recipe/',\n",
              " 'https://veenaazmanov.com/chocolate-fudge-cake/',\n",
              " 'https://veenaazmanov.com/gluten-free-chocolate-cake-recipe/']"
            ]
          },
          "metadata": {},
          "execution_count": 4
        }
      ],
      "metadata": {
        "colab": {
          "base_uri": "https://localhost:8080/"
        },
        "id": "Yp3zUkGdUk5e",
        "outputId": "d58cf4d2-b29f-4950-c53d-c81e893244df"
      }
    },
    {
      "cell_type": "code",
      "execution_count": 31,
      "source": [
        "with open('unique_url.txt','w') as f:\r\n",
        "    f.write('\\n'.join(unique_url))"
      ],
      "outputs": [],
      "metadata": {}
    },
    {
      "cell_type": "code",
      "execution_count": 5,
      "source": [
        "import sys\r\n",
        "import time\r\n",
        "\r\n",
        "data = {}\r\n",
        "non_menu_url = []\r\n",
        "error_url = []\r\n",
        "unique_url = list(set(all_recipe_url))  # To make sure there is no duplicated url\r\n",
        "\r\n",
        "for url in unique_url:\r\n",
        "\r\n",
        "    try:\r\n",
        "        page = requests.get(url).content\r\n",
        "    except requests.exceptions.MissingSchema as e:\r\n",
        "        error_url.append(url)\r\n",
        "        continue\r\n",
        "\r\n",
        "    soup = BeautifulSoup(page, 'html.parser')\r\n",
        "    \r\n",
        "    try:\r\n",
        "        menu = soup.find(\"h2\", class_=\"wprm-recipe-name wprm-block-text-bold\")\r\n",
        "        if menu is None : raise AttributeError\r\n",
        "    except AttributeError as e:\r\n",
        "        non_menu_url.append(url)\r\n",
        "        continue\r\n",
        "\r\n",
        "    steps = [a for a in soup.find_all(\"div\", class_=\"wprm-recipe-instruction-text\")]\r\n",
        "    data[str(menu.string)] = steps\r\n",
        "\r\n",
        "    sys.stdout.write(\"\\rData revieved: %i\" % len(data))\r\n",
        "    sys.stdout.flush()\r\n",
        "    time.sleep(0.05)"
      ],
      "outputs": [
        {
          "output_type": "stream",
          "name": "stdout",
          "text": [
            "Data revieved: 10"
          ]
        }
      ],
      "metadata": {
        "colab": {
          "base_uri": "https://localhost:8080/"
        },
        "id": "EA4jbkPlK2fw",
        "outputId": "103f7bf4-5ed9-47e3-a7b0-c8c00e074310"
      }
    },
    {
      "cell_type": "code",
      "execution_count": 6,
      "source": [
        "print(f\"Data collected: {len(data)}\")\r\n",
        "print(f\"Non recipe url detected: {len(non_menu_url)}\")\r\n",
        "print(f\"Failed in get request: {len(error_url)}\")"
      ],
      "outputs": [
        {
          "output_type": "stream",
          "name": "stdout",
          "text": [
            "Data collected: 10\n",
            "Non recipe url detected: 0\n",
            "Failed in get request: 0\n"
          ]
        }
      ],
      "metadata": {
        "colab": {
          "base_uri": "https://localhost:8080/"
        },
        "id": "qJjlw6uva1Q0",
        "outputId": "bcd0595a-70ad-45d0-df1b-ebd087653352"
      }
    },
    {
      "cell_type": "code",
      "execution_count": 19,
      "source": [
        "data_strings_new = {\r\n",
        "    key: [str(step.text) for step in steps if step.text != None] for key, steps in data.items()\r\n",
        "}"
      ],
      "outputs": [],
      "metadata": {
        "id": "OwntF5NvffdF"
      }
    },
    {
      "cell_type": "code",
      "execution_count": 20,
      "source": [
        "import json\r\n",
        "import os\r\n",
        "\r\n",
        "if not os.path.exists('data_strings_local.json'):\r\n",
        "    json.dump(data_strings_new, open('data_strings_local.json', 'w'))"
      ],
      "outputs": [],
      "metadata": {
        "id": "5eeh-40CgBLN"
      }
    },
    {
      "cell_type": "code",
      "execution_count": 21,
      "source": [
        "test_load = json.load(open('data_strings_local.json','r'))\r\n",
        "print(f'Nuber of recipe: {len(test_load.keys())}')"
      ],
      "outputs": [
        {
          "output_type": "stream",
          "name": "stdout",
          "text": [
            "Nuber of recipe: 719\n"
          ]
        }
      ],
      "metadata": {
        "colab": {
          "base_uri": "https://localhost:8080/"
        },
        "id": "_KJ6GieDRJ2K",
        "outputId": "8354bb08-2ec7-43c0-bcfe-76dc534833ff"
      }
    },
    {
      "cell_type": "code",
      "execution_count": 34,
      "source": [
        "test_load['Crock-Pot Beef Stew']"
      ],
      "outputs": [
        {
          "output_type": "execute_result",
          "data": {
            "text/plain": [
              "['Add carrots, potatoes, beef, onion, garlic, ginger, herbs, and spices into the slow cooker.',\n",
              " 'In a bowl or measuring cup – combine broth, red wine, Worcestershire sauce, vinegar, tomato paste, and mustard.',\n",
              " 'Then, pour the liquid ingredients over the slow cooker ingredients.',\n",
              " 'Cover and cook on low-heat for 6 hours or on high for 3 hours.',\n",
              " 'Combine cornstarch and water in a bowl. Then, add it to the slow cooker.',\n",
              " 'Continue to cook on high for another hour.',\n",
              " 'Serve over steamed rice, couscous, or cauliflower rice.']"
            ]
          },
          "metadata": {},
          "execution_count": 34
        }
      ],
      "metadata": {}
    },
    {
      "cell_type": "code",
      "execution_count": null,
      "source": [],
      "outputs": [],
      "metadata": {}
    }
  ]
}