{
 "cells": [
  {
   "cell_type": "code",
   "execution_count": 1,
   "source": [
    "from bs4 import BeautifulSoup\r\n",
    "import requests\r\n",
    "import json\r\n",
    "\r\n",
    "with open('unique_url.txt', 'r') as f:\r\n",
    "    all_url = f.readlines()\r\n"
   ],
   "outputs": [],
   "metadata": {}
  },
  {
   "cell_type": "code",
   "execution_count": 3,
   "source": [
    "all_url = [e.strip() for e in all_url]"
   ],
   "outputs": [],
   "metadata": {}
  },
  {
   "cell_type": "code",
   "execution_count": 5,
   "source": [
    "page = requests.get(all_url[0]).content\r\n",
    "soup = BeautifulSoup(page, \"html.parser\")"
   ],
   "outputs": [],
   "metadata": {}
  },
  {
   "cell_type": "code",
   "execution_count": 30,
   "source": [
    "content = soup.find_all('main', class_=\"content\")\r\n",
    "assert len(content) == 1\r\n",
    "content = content[0]\r\n",
    "imgs = content.find_all('figure', class_=\"wp-block-image size-full\")\r\n",
    "len(imgs)"
   ],
   "outputs": [
    {
     "output_type": "execute_result",
     "data": {
      "text/plain": [
       "5"
      ]
     },
     "metadata": {},
     "execution_count": 30
    }
   ],
   "metadata": {}
  },
  {
   "cell_type": "code",
   "execution_count": 35,
   "source": [
    "imgs[0]"
   ],
   "outputs": [
    {
     "output_type": "execute_result",
     "data": {
      "text/plain": [
       "<figure class=\"wp-block-image size-full\"><img alt=\"A bowl of black beans curry.\" class=\"wp-image-88500\" data-lazy-sizes=\"(max-width: 1200px) 100vw, 1200px\" data-lazy-src=\"https://veenaazmanov.com/wp-content/uploads/2019/04/Black-Beans-Curry-Recipe2.jpg\" data-lazy-srcset=\"https://veenaazmanov.com/wp-content/uploads/2019/04/Black-Beans-Curry-Recipe2.jpg 1200w, https://veenaazmanov.com/wp-content/uploads/2019/04/Black-Beans-Curry-Recipe2-500x500.jpg 500w, https://veenaazmanov.com/wp-content/uploads/2019/04/Black-Beans-Curry-Recipe2-900x900.jpg 900w, https://veenaazmanov.com/wp-content/uploads/2019/04/Black-Beans-Curry-Recipe2-150x150.jpg 150w, https://veenaazmanov.com/wp-content/uploads/2019/04/Black-Beans-Curry-Recipe2-360x361.jpg 360w, https://veenaazmanov.com/wp-content/uploads/2019/04/Black-Beans-Curry-Recipe2-560x560.jpg 560w, https://veenaazmanov.com/wp-content/uploads/2019/04/Black-Beans-Curry-Recipe2-120x120.jpg 120w\" data-pin-description=\"Make a rich, creamy and delicious black beans curry with dried or canned black beans in less than 15 minutes #black #beans #curry #Indian #15mins\" data-pin-title=\"Black Beans Curry Recipe\" height=\"1200\" src=\"data:image/svg+xml,%3Csvg%20xmlns='http://www.w3.org/2000/svg'%20viewBox='0%200%201200%201200'%3E%3C/svg%3E\" width=\"1200\"/><noscript><img alt=\"A bowl of black beans curry.\" class=\"wp-image-88500\" data-pin-description=\"Make a rich, creamy and delicious black beans curry with dried or canned black beans in less than 15 minutes #black #beans #curry #Indian #15mins\" data-pin-title=\"Black Beans Curry Recipe\" height=\"1200\" sizes=\"(max-width: 1200px) 100vw, 1200px\" src=\"https://veenaazmanov.com/wp-content/uploads/2019/04/Black-Beans-Curry-Recipe2.jpg\" srcset=\"https://veenaazmanov.com/wp-content/uploads/2019/04/Black-Beans-Curry-Recipe2.jpg 1200w, https://veenaazmanov.com/wp-content/uploads/2019/04/Black-Beans-Curry-Recipe2-500x500.jpg 500w, https://veenaazmanov.com/wp-content/uploads/2019/04/Black-Beans-Curry-Recipe2-900x900.jpg 900w, https://veenaazmanov.com/wp-content/uploads/2019/04/Black-Beans-Curry-Recipe2-150x150.jpg 150w, https://veenaazmanov.com/wp-content/uploads/2019/04/Black-Beans-Curry-Recipe2-360x361.jpg 360w, https://veenaazmanov.com/wp-content/uploads/2019/04/Black-Beans-Curry-Recipe2-560x560.jpg 560w, https://veenaazmanov.com/wp-content/uploads/2019/04/Black-Beans-Curry-Recipe2-120x120.jpg 120w\" width=\"1200\"/></noscript><figcaption>Indian Curry with Black Beans(without coconut) </figcaption></figure>"
      ]
     },
     "metadata": {},
     "execution_count": 35
    }
   ],
   "metadata": {}
  },
  {
   "cell_type": "code",
   "execution_count": 26,
   "source": [
    "imgs[5].find_all('img')"
   ],
   "outputs": [
    {
     "output_type": "execute_result",
     "data": {
      "text/plain": [
       "[<img alt=\"a collage of all the logos where Veena Azmanov has been featured\" class=\"wp-image-117249\" data-lazy-src=\"https://veenaazmanov.com/wp-content/uploads/2021/07/Veena-Azmanov-featured-in-.jpeg\" data-pin-description=\"Veena Azmanov has been featured on various websites and magazines all across the world.\" height=\"600\" src=\"data:image/svg+xml,%3Csvg%20xmlns='http://www.w3.org/2000/svg'%20viewBox='0%200%20600%20600'%3E%3C/svg%3E\" width=\"600\"/>,\n",
       " <img alt=\"a collage of all the logos where Veena Azmanov has been featured\" class=\"wp-image-117249\" data-pin-description=\"Veena Azmanov has been featured on various websites and magazines all across the world.\" height=\"600\" src=\"https://veenaazmanov.com/wp-content/uploads/2021/07/Veena-Azmanov-featured-in-.jpeg\" width=\"600\"/>]"
      ]
     },
     "metadata": {},
     "execution_count": 26
    }
   ],
   "metadata": {}
  },
  {
   "cell_type": "code",
   "execution_count": null,
   "source": [
    "# figure->div->img< alt have 'Progress', 'Ingredients'> : Not a dish's image"
   ],
   "outputs": [],
   "metadata": {}
  }
 ],
 "metadata": {
  "orig_nbformat": 4,
  "language_info": {
   "name": "python",
   "version": "3.8.10",
   "mimetype": "text/x-python",
   "codemirror_mode": {
    "name": "ipython",
    "version": 3
   },
   "pygments_lexer": "ipython3",
   "nbconvert_exporter": "python",
   "file_extension": ".py"
  },
  "kernelspec": {
   "name": "python3",
   "display_name": "Python 3.8.10 64-bit ('venv': venv)"
  },
  "interpreter": {
   "hash": "6b1557de0195c05600ab34f85f49e31e8bf48614b384d66035242c3a032df447"
  }
 },
 "nbformat": 4,
 "nbformat_minor": 2
}