{
 "cells": [
  {
   "cell_type": "code",
   "execution_count": 7,
   "source": [
    "from bs4 import BeautifulSoup\r\n",
    "import requests\r\n",
    "import json\r\n",
    "\r\n",
    "menu_url_nonDup = json.load(open('../recipe-clawler/menu_url_nonDup.json', 'r'))\r\n",
    "menu_url_nonDup_doublet = list(menu_url_nonDup.items())"
   ],
   "outputs": [],
   "metadata": {}
  },
  {
   "cell_type": "code",
   "execution_count": 8,
   "source": [
    "menu_url_nonDup_doublet[4]"
   ],
   "outputs": [
    {
     "output_type": "execute_result",
     "data": {
      "text/plain": [
       "('Chocolate Cake',\n",
       " 'https://veenaazmanov.com/chocolate-cake-with-whipped-cream/')"
      ]
     },
     "metadata": {},
     "execution_count": 8
    }
   ],
   "metadata": {}
  },
  {
   "cell_type": "code",
   "execution_count": 9,
   "source": [
    "from collections import defaultdict\r\n",
    "\r\n",
    "menu_imgs = defaultdict(lambda: [])\r\n",
    "img_not_detected = {}\r\n",
    "content_err = {}"
   ],
   "outputs": [],
   "metadata": {}
  },
  {
   "cell_type": "markdown",
   "source": [
    "> ## figure->div->img< alt have 'Progress', 'Ingredients'> : Not a dish's image"
   ],
   "metadata": {}
  },
  {
   "cell_type": "code",
   "execution_count": 10,
   "source": [
    "import sys\r\n",
    "import time\r\n",
    "\r\n",
    "for menu, url in menu_url_nonDup_doublet:\r\n",
    "\r\n",
    "    if menu in menu_imgs: continue\r\n",
    "\r\n",
    "    try:\r\n",
    "        page = requests.get(url).content\r\n",
    "    except Exception as e:\r\n",
    "        print(f'Failed get: {menu}, {url}')\r\n",
    "        continue\r\n",
    "    \r\n",
    "    soup = BeautifulSoup(page, \"html.parser\")\r\n",
    "\r\n",
    "    content = soup.find_all('main', class_=\"content\")\r\n",
    "    try:\r\n",
    "        assert len(content) == 1\r\n",
    "    except AssertionError as e:\r\n",
    "        content_err[menu] = url\r\n",
    "        continue\r\n",
    "\r\n",
    "    content = content[0]\r\n",
    "\r\n",
    "    imgs = content.find_all('figure', class_=\"wp-block-image size-full\")\r\n",
    "    if len(imgs) == 0:\r\n",
    "        imgs = content.find_all('figure', class_=\"wp-block-image\")\r\n",
    "        if len(imgs) == 0:\r\n",
    "            img_not_detected[menu] = url\r\n",
    "            continue\r\n",
    "\r\n",
    "    for img in imgs:\r\n",
    "        img_tag = img.img\r\n",
    "        if (\r\n",
    "            not img_tag['alt'].lower().startswith(\"ingredients\") and \r\n",
    "            not img_tag['alt'].lower().startswith(\"progress\")\r\n",
    "        ):\r\n",
    "            try:\r\n",
    "                menu_imgs[menu].append(img_tag['data-lazy-src'])\r\n",
    "            except KeyError as e:\r\n",
    "                menu_imgs[menu].append(img_tag['src'])\r\n",
    "            except KeyError as e:\r\n",
    "                raise KeyError\r\n",
    "\r\n",
    "    sys.stdout.write(\"\\rData revieved: %i\" % len(menu_imgs))\r\n",
    "    sys.stdout.flush()\r\n",
    "    time.sleep(0.1)"
   ],
   "outputs": [
    {
     "output_type": "stream",
     "name": "stdout",
     "text": [
      "Data revieved: 363"
     ]
    },
    {
     "output_type": "stream",
     "name": "stderr",
     "text": [
      "Some characters could not be decoded, and were replaced with REPLACEMENT CHARACTER.\n"
     ]
    },
    {
     "output_type": "stream",
     "name": "stdout",
     "text": [
      "Data revieved: 742Failed get: Cancel reply, /recipes-in-text/#respond\n",
      "Data revieved: 744"
     ]
    }
   ],
   "metadata": {}
  },
  {
   "cell_type": "markdown",
   "source": [
    "# Results"
   ],
   "metadata": {}
  },
  {
   "cell_type": "code",
   "execution_count": 12,
   "source": [
    "n_imgs = 0\r\n",
    "n_menus = 0\r\n",
    "\r\n",
    "for menu, urls in menu_imgs.items():\r\n",
    "    n_imgs+=len(urls)\r\n",
    "    n_menus+=1\r\n",
    "\r\n",
    "print(f'Totally number of menus: {n_menus}')\r\n",
    "print(f'Totally collected images: {n_imgs}')"
   ],
   "outputs": [
    {
     "output_type": "stream",
     "name": "stdout",
     "text": [
      "Totally number of menus: 744\n",
      "Totally collected images: 2976\n"
     ]
    }
   ],
   "metadata": {}
  },
  {
   "cell_type": "code",
   "execution_count": 13,
   "source": [
    "json.dump(menu_imgs, open(\"menu_imgs_url.json\",\"w\"))"
   ],
   "outputs": [],
   "metadata": {}
  },
  {
   "cell_type": "code",
   "execution_count": 14,
   "source": [
    "content_err"
   ],
   "outputs": [
    {
     "output_type": "execute_result",
     "data": {
      "text/plain": [
       "{'All jam recipes': 'https://veenaazmanov.com/category/condiments-recipes/jam-recipes/'}"
      ]
     },
     "metadata": {},
     "execution_count": 14
    }
   ],
   "metadata": {}
  },
  {
   "cell_type": "code",
   "execution_count": 15,
   "source": [
    "json.dump(img_not_detected, open(\"img_not_detected.json\",\"w\"))\r\n",
    "img_not_detected"
   ],
   "outputs": [
    {
     "output_type": "execute_result",
     "data": {
      "text/plain": [
       "{'All buttercream Recipes here': 'https://veenaazmanov.com/category/cake-decorating-recipes/frosting-recipes/',\n",
       " 'Eggless Strawberry Cupcakes': 'https://veenaazmanov.com/eggless-strawberry-cupcakes/',\n",
       " 'cupcake recipes': 'https://veenaazmanov.com/category/cake-recipes/cupcake-recipes/',\n",
       " 'Stenciled Christmas Sugar Cookies': 'https://veenaazmanov.com/stenciled-christmas-sugar-cookies/',\n",
       " 'See all soup recipes': 'https://veenaazmanov.com/category/cooking-recipes/soup-recipes/',\n",
       " 'See all salad recipes': 'https://veenaazmanov.com/category/cooking-recipes/salad-recipes/',\n",
       " 'Chicken and Broccoli Zucchini Noodle Stir-Fry': 'https://veenaazmanov.com/chicken-and-broccoli-zucchini-noodle-stir-fry/',\n",
       " 'All Bread Recipes': 'https://veenaazmanov.com/category/bread-recipes/',\n",
       " 'NO churn Ice cream collection': 'https://veenaazmanov.com/category/cooking-recipes/ice-cream-popsicles-recipes/',\n",
       " 'Indian Lychee Kulfi - Lychee Ice cream pops': 'https://veenaazmanov.com/homemade-lychee-kulfi/',\n",
       " 'smoothies here': 'https://veenaazmanov.com/category/cooking-recipes/drinks-recipes/',\n",
       " 'All Pasta Recipes': 'https://veenaazmanov.com/category/cooking-recipes/pasta-recipes/',\n",
       " 'All Italian Recipes': 'https://veenaazmanov.com/category/cuisine/italian-recipes/',\n",
       " 'Privacy Policy': 'https://veenaazmanov.com/privacy-policy/',\n",
       " 'More about me →': 'https://veenaazmanov.com/about-this-blog/',\n",
       " 'Disclaimer': 'https://veenaazmanov.com/copyright-and-disclosure/',\n",
       " 'Masterclasses': 'https://veenaazmanov.com/category/masterclass/',\n",
       " 'Cook': 'https://veenaazmanov.com/cook/',\n",
       " 'Bake': 'https://veenaazmanov.com/bake/',\n",
       " 'Decorate': 'https://veenaazmanov.com/cake-decorating-tutorials/',\n",
       " 'Recipes': 'https://veenaazmanov.com/recipes/',\n",
       " 'Accessibility statement': 'https://veenaazmanov.com/accessibility/'}"
      ]
     },
     "metadata": {},
     "execution_count": 15
    }
   ],
   "metadata": {}
  },
  {
   "cell_type": "code",
   "execution_count": null,
   "source": [
    "from collections import defaultdict\r\n",
    "import shutil\r\n",
    "import time\r\n",
    "import sys\r\n",
    "import os\r\n",
    "\r\n",
    "menu_urls = json.load(open(\"menu_imgs_url.json\", \"r\"))\r\n",
    "\r\n",
    "images = defaultdict(lambda: [])\r\n",
    "os.mkdir('images')\r\n",
    "\r\n",
    "for menu, urls in list(menu_urls.items()):\r\n",
    "    \r\n",
    "    for i, url in enumerate(urls):\r\n",
    "        image = requests.get(url)\r\n",
    "        \r\n",
    "        path = f\"images/{menu}_{i}.jpg\"\r\n",
    "        images[menu].append(path)\r\n",
    "        with open(path, \"wb\") as f:\r\n",
    "            f.write(image.content)\r\n",
    "    \r\n",
    "    print(f'Progress: {(len(images)/len(menu_urls)):.2f}', end='\\r')\r\n",
    "    time.sleep(0.1)\r\n",
    "\r\n",
    "json.dump(dict(images), open(\"image_path.json\",\"w\"))"
   ],
   "outputs": [],
   "metadata": {}
  }
 ],
 "metadata": {
  "orig_nbformat": 4,
  "language_info": {
   "name": "python",
   "version": "3.8.10",
   "mimetype": "text/x-python",
   "codemirror_mode": {
    "name": "ipython",
    "version": 3
   },
   "pygments_lexer": "ipython3",
   "nbconvert_exporter": "python",
   "file_extension": ".py"
  },
  "kernelspec": {
   "name": "python3",
   "display_name": "Python 3.8.10 64-bit ('venv': venv)"
  },
  "interpreter": {
   "hash": "6b1557de0195c05600ab34f85f49e31e8bf48614b384d66035242c3a032df447"
  }
 },
 "nbformat": 4,
 "nbformat_minor": 2
}